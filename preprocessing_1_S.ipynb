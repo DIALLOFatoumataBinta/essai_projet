{
 "cells": [
  {
   "cell_type": "markdown",
   "id": "ab2b8e33",
   "metadata": {
    "tags": []
   },
   "source": [
    "<div style=\"display: flex; background-color: #3F579F;\">\n",
    "    <h1 style=\"margin: auto; font-weight: bold; padding: 30px 30px 0px 30px; color:#fff;\" align=\"center\">Implement a scoring model - P7</h1>\n",
    "</div>\n",
    "<div style=\"display: flex; background-color: #3F579F; margin: auto; padding: 5px 30px 0px 30px;\" >\n",
    "    <h3 style=\"width: 100%; text-align: center; float: left; font-size: 24px; color:#fff;\" align=\"center\">| Preprocessing Notebook |</h3>\n",
    "</div>\n",
    "<div style=\"display: flex; background-color: #3F579F; margin: auto; padding: 10px 30px 30px 30px;\">\n",
    "    <h4 style=\"width: 100%; text-align: center; float: left; font-size: 24px; color:#fff;\" align=\"center\">Data Scientist course - OpenClassrooms</h4>\n",
    "</div>"
   ]
  },
  {
   "cell_type": "markdown",
   "id": "4f55f150",
   "metadata": {
    "tags": []
   },
   "source": [
    "<div style=\"background-color: #506AB9;\" >\n",
    "    <h2 style=\"margin: auto; padding: 20px; color:#fff; \">1. Libraries</h2>\n",
    "</div>"
   ]
  },
  {
   "cell_type": "markdown",
   "id": "3d6ee862",
   "metadata": {
    "tags": []
   },
   "source": [
    "<div style=\"background-color: #506AB9;\" >\n",
    "    <h3 style=\"margin: auto; padding: 20px; color:#fff; \">1.1 Libraries</h3>\n",
    "</div>"
   ]
  },
  {
   "cell_type": "code",
   "execution_count": 1,
   "id": "7fd5424e",
   "metadata": {},
   "outputs": [],
   "source": [
    "import gc\n",
    "import time\n",
    "import re\n",
    "from contextlib import contextmanager\n",
    "import numpy as np\n",
    "import pandas as pd\n",
    "\n",
    "from contextlib import contextmanager\n",
    "from lightgbm import LGBMClassifier\n",
    "from sklearn.metrics import roc_auc_score, roc_curve\n",
    "from sklearn.model_selection import KFold, StratifiedKFold\n",
    "import matplotlib.pyplot as plt\n",
    "import seaborn as sns\n",
    "import warnings\n",
    "warnings.simplefilter(action='ignore', category=FutureWarning)"
   ]
  },
  {
   "cell_type": "markdown",
   "id": "7d25a0de",
   "metadata": {
    "tags": []
   },
   "source": [
    "<div style=\"background-color: #506AB9;\" >\n",
    "    <h2 style=\"margin: auto; padding: 20px; color:#fff; \">2. Functions</h2>\n",
    "</div>"
   ]
  },
  {
   "cell_type": "markdown",
   "id": "485f9b37",
   "metadata": {
    "tags": []
   },
   "source": [
    "<div style=\"background-color: #6D83C5;\" >\n",
    "    <h3 style=\"margin: auto; padding: 20px; color:#fff; \">Timer</h3>\n",
    "</div>"
   ]
  },
  {
   "cell_type": "code",
   "execution_count": 2,
   "id": "894aada0",
   "metadata": {},
   "outputs": [],
   "source": [
    "@contextmanager\n",
    "def timer(title):\n",
    "    t0 = time.time()\n",
    "    yield\n",
    "    print(\"{} - done in {:.0f}s\".format(title, time.time() - t0))"
   ]
  },
  {
   "cell_type": "markdown",
   "id": "0509f9cc",
   "metadata": {
    "tags": []
   },
   "source": [
    "<div style=\"background-color: #6D83C5;\" >\n",
    "    <h3 style=\"margin: auto; padding: 20px; color:#fff; \">Categorical encoder</h3>\n",
    "</div>"
   ]
  },
  {
   "cell_type": "code",
   "execution_count": 3,
   "id": "ac9aab04",
   "metadata": {},
   "outputs": [],
   "source": [
    "# One-hot encoding for categorical columns with get_dummies\n",
    "def one_hot_encoder(df, nan_as_category=True):\n",
    "    original_columns = list(df.columns)\n",
    "    categorical_columns = [col for col in df.columns if df[col].dtype == 'object']\n",
    "    df = pd.get_dummies(df, columns=categorical_columns, dummy_na=nan_as_category)\n",
    "    new_columns = [c for c in df.columns if c not in original_columns]\n",
    "    return df, new_columns"
   ]
  },
  {
   "cell_type": "markdown",
   "id": "44761613",
   "metadata": {
    "tags": []
   },
   "source": [
    "<div style=\"background-color: #6D83C5;\" >\n",
    "    <h3 style=\"margin: auto; padding: 20px; color:#fff; \">Preprocess main table</h3>\n",
    "</div>"
   ]
  },
  {
   "cell_type": "code",
   "execution_count": 64,
   "id": "6c0832c6",
   "metadata": {},
   "outputs": [],
   "source": [
    "# Preprocess application_train.csv and application_test.csv\n",
    "def application_train_test(num_rows=None, nan_as_category=False):\n",
    "    \n",
    "    # Read data and merge\n",
    "    df = pd.read_csv(r\"app_train.csv\", nrows=num_rows)\n",
    "    #test_df = pd.read_csv(r\"app_test.csv\", nrows=num_rows)\n",
    "    #print(\"Train samples: {}\".format(len(df))#, len(test_df)))\n",
    "    #df = df.append(test_df).reset_index()\n",
    "    \n",
    "    # Optional: Remove 4 applications with XNA CODE_GENDER (train set)\n",
    "    df = df[df['CODE_GENDER'] != 'XNA']\n",
    "    \n",
    "    # Categorical features with Binary encode (0 or 1; two categories)\n",
    "    for bin_feature in ['CODE_GENDER', 'FLAG_OWN_CAR', 'FLAG_OWN_REALTY']:\n",
    "        df[bin_feature], uniques = pd.factorize(df[bin_feature])\n",
    "        \n",
    "    # Categorical features with One-Hot encode\n",
    "    df, cat_cols = one_hot_encoder(df, nan_as_category)\n",
    "    \n",
    "    # NaN values for DAYS_EMPLOYED: 365.243 -> nan\n",
    "    df['DAYS_EMPLOYED'].replace(365243, np.nan, inplace=True)\n",
    "    \n",
    "    # Some simple new features (percentages)\n",
    "    df['DAYS_EMPLOYED_PERC'] = df['DAYS_EMPLOYED'] / df['DAYS_BIRTH']\n",
    "    df['INCOME_CREDIT_PERC'] = df['AMT_INCOME_TOTAL'] / df['AMT_CREDIT']\n",
    "    df['INCOME_PER_PERSON'] = df['AMT_INCOME_TOTAL'] / df['CNT_FAM_MEMBERS']\n",
    "    df['ANNUITY_INCOME_PERC'] = df['AMT_ANNUITY'] / df['AMT_INCOME_TOTAL']\n",
    "    df['PAYMENT_RATE'] = df['AMT_ANNUITY'] / df['AMT_CREDIT']\n",
    "    \n",
    "    #del test_df\n",
    "    gc.collect()\n",
    "    \n",
    "    return df"
   ]
  },
  {
   "cell_type": "markdown",
   "id": "b98d85af",
   "metadata": {
    "tags": []
   },
   "source": [
    "<div style=\"background-color: #6D83C5;\" >\n",
    "    <h3 style=\"margin: auto; padding: 20px; color:#fff; \">Bureau and Bureau balance</h3>\n",
    "</div>"
   ]
  },
  {
   "cell_type": "code",
   "execution_count": 5,
   "id": "e77f2a5b",
   "metadata": {},
   "outputs": [],
   "source": [
    "# Preprocess bureau.csv and bureau_balance.csv\n",
    "def bureau_and_balance(num_rows=None, nan_as_category=True):\n",
    "    \n",
    "    # Read data\n",
    "    bureau = pd.read_csv(r\"app_bureau.csv\", nrows=num_rows)\n",
    "    bb = pd.read_csv(r\"app_bureau_balance.csv\", nrows=num_rows)\n",
    "    \n",
    "    # Categorical features with One-Hot encode\n",
    "    bb, bb_cat = one_hot_encoder(bb, nan_as_category)\n",
    "    bureau, bureau_cat = one_hot_encoder(bureau, nan_as_category)\n",
    "    \n",
    "    # Bureau balance: Perform aggregations and merge with bureau.csv\n",
    "    bb_aggregations = {'MONTHS_BALANCE': ['min', 'max', 'size']}\n",
    "    for col in bb_cat:\n",
    "        bb_aggregations[col] = ['mean']\n",
    "    bb_agg = bb.groupby('SK_ID_BUREAU').agg(bb_aggregations)\n",
    "    bb_agg.columns = pd.Index([e[0] + \"_\" + e[1].upper() for e in bb_agg.columns.tolist()])\n",
    "    bureau = bureau.join(bb_agg, how='left', on='SK_ID_BUREAU')\n",
    "    bureau.drop(['SK_ID_BUREAU'], axis=1, inplace= True)\n",
    "    del bb, bb_agg\n",
    "    gc.collect()\n",
    "    \n",
    "    # Bureau and bureau_balance numeric features\n",
    "    num_aggregations = {\n",
    "        'DAYS_CREDIT': ['min', 'max', 'mean', 'var'],\n",
    "        'DAYS_CREDIT_ENDDATE': ['min', 'max', 'mean'],\n",
    "        'DAYS_CREDIT_UPDATE': ['mean'],\n",
    "        'CREDIT_DAY_OVERDUE': ['max', 'mean'],\n",
    "        'AMT_CREDIT_MAX_OVERDUE': ['mean'],\n",
    "        'AMT_CREDIT_SUM': ['max', 'mean', 'sum'],\n",
    "        'AMT_CREDIT_SUM_DEBT': ['max', 'mean', 'sum'],\n",
    "        'AMT_CREDIT_SUM_OVERDUE': ['mean'],\n",
    "        'AMT_CREDIT_SUM_LIMIT': ['mean', 'sum'],\n",
    "        'AMT_ANNUITY': ['max', 'mean'],\n",
    "        'CNT_CREDIT_PROLONG': ['sum'],\n",
    "        'MONTHS_BALANCE_MIN': ['min'],\n",
    "        'MONTHS_BALANCE_MAX': ['max'],\n",
    "        'MONTHS_BALANCE_SIZE': ['mean', 'sum']\n",
    "    }\n",
    "    \n",
    "    # Bureau and bureau_balance categorical features\n",
    "    cat_aggregations = {}\n",
    "    for cat in bureau_cat: cat_aggregations[cat] = ['mean']\n",
    "    for cat in bb_cat: cat_aggregations[cat + \"_MEAN\"] = ['mean']\n",
    "    \n",
    "    bureau_agg = bureau.groupby('SK_ID_CURR').agg({**num_aggregations, **cat_aggregations})\n",
    "    bureau_agg.columns = pd.Index(['BURO_' + e[0] + \"_\" + e[1].upper() for e in bureau_agg.columns.tolist()])\n",
    "    \n",
    "    # Bureau: Active credits - using only numerical aggregations\n",
    "    active = bureau[bureau['CREDIT_ACTIVE_Active'] == 1]\n",
    "    active_agg = active.groupby('SK_ID_CURR').agg(num_aggregations)\n",
    "    active_agg.columns = pd.Index(['ACTIVE_' + e[0] + \"_\" + e[1].upper() for e in active_agg.columns.tolist()])\n",
    "    bureau_agg = bureau_agg.join(active_agg, how='left', on='SK_ID_CURR')\n",
    "    del active, active_agg\n",
    "    gc.collect()\n",
    "    \n",
    "    # Bureau: Closed credits - using only numerical aggregations\n",
    "    closed = bureau[bureau['CREDIT_ACTIVE_Closed'] == 1]\n",
    "    closed_agg = closed.groupby('SK_ID_CURR').agg(num_aggregations)\n",
    "    closed_agg.columns = pd.Index(['CLOSED_' + e[0] + \"_\" + e[1].upper() for e in closed_agg.columns.tolist()])\n",
    "    bureau_agg = bureau_agg.join(closed_agg, how='left', on='SK_ID_CURR')\n",
    "    \n",
    "    del closed, closed_agg, bureau\n",
    "    gc.collect()\n",
    "    \n",
    "    return bureau_agg"
   ]
  },
  {
   "cell_type": "markdown",
   "id": "aa029292",
   "metadata": {
    "tags": []
   },
   "source": [
    "<div style=\"background-color: #6D83C5;\" >\n",
    "    <h3 style=\"margin: auto; padding: 20px; color:#fff; \">Previous applications</h3>\n",
    "</div>"
   ]
  },
  {
   "cell_type": "code",
   "execution_count": 6,
   "id": "34adbe7c",
   "metadata": {},
   "outputs": [],
   "source": [
    "# Preprocess previous_applications.csv\n",
    "def previous_applications(num_rows=None, nan_as_category=True):\n",
    "    \n",
    "    # Read data\n",
    "    prev = pd.read_csv(r\"app_previous_application.csv\", nrows=num_rows)\n",
    "    \n",
    "    # Categorical features with One-Hot encode\n",
    "    prev, cat_cols = one_hot_encoder(prev, nan_as_category= True)\n",
    "    \n",
    "    # Days 365.243 values -> nan\n",
    "    prev['DAYS_FIRST_DRAWING'].replace(365243, np.nan, inplace= True)\n",
    "    prev['DAYS_FIRST_DUE'].replace(365243, np.nan, inplace= True)\n",
    "    prev['DAYS_LAST_DUE_1ST_VERSION'].replace(365243, np.nan, inplace= True)\n",
    "    prev['DAYS_LAST_DUE'].replace(365243, np.nan, inplace= True)\n",
    "    prev['DAYS_TERMINATION'].replace(365243, np.nan, inplace= True)\n",
    "    \n",
    "    # Add feature: value ask / value received percentage\n",
    "    prev['APP_CREDIT_PERC'] = prev['AMT_APPLICATION'] / prev['AMT_CREDIT']\n",
    "    \n",
    "    # Previous applications numeric features\n",
    "    num_aggregations = {\n",
    "        'AMT_ANNUITY': ['min', 'max', 'mean'],\n",
    "        'AMT_APPLICATION': ['min', 'max', 'mean'],\n",
    "        'AMT_CREDIT': ['min', 'max', 'mean'],\n",
    "        'APP_CREDIT_PERC': ['min', 'max', 'mean', 'var'],\n",
    "        'AMT_DOWN_PAYMENT': ['min', 'max', 'mean'],\n",
    "        'AMT_GOODS_PRICE': ['min', 'max', 'mean'],\n",
    "        'HOUR_APPR_PROCESS_START': ['min', 'max', 'mean'],\n",
    "        'RATE_DOWN_PAYMENT': ['min', 'max', 'mean'],\n",
    "        'DAYS_DECISION': ['min', 'max', 'mean'],\n",
    "        'CNT_PAYMENT': ['mean', 'sum'],\n",
    "    }\n",
    "    \n",
    "    # Previous applications categorical features\n",
    "    cat_aggregations = {}\n",
    "    for cat in cat_cols:\n",
    "        cat_aggregations[cat] = ['mean']\n",
    "    \n",
    "    prev_agg = prev.groupby('SK_ID_CURR').agg({**num_aggregations, **cat_aggregations})\n",
    "    prev_agg.columns = pd.Index(['PREV_' + e[0] + \"_\" + e[1].upper() for e in prev_agg.columns.tolist()])\n",
    "    \n",
    "    # Previous Applications: Approved Applications - only numerical features\n",
    "    approved = prev[prev['NAME_CONTRACT_STATUS_Approved'] == 1]\n",
    "    approved_agg = approved.groupby('SK_ID_CURR').agg(num_aggregations)\n",
    "    approved_agg.columns = pd.Index(['APPROVED_' + e[0] + \"_\" + e[1].upper() for e in approved_agg.columns.tolist()])\n",
    "    prev_agg = prev_agg.join(approved_agg, how='left', on='SK_ID_CURR')\n",
    "    \n",
    "    # Previous Applications: Refused Applications - only numerical features\n",
    "    refused = prev[prev['NAME_CONTRACT_STATUS_Refused'] == 1]\n",
    "    refused_agg = refused.groupby('SK_ID_CURR').agg(num_aggregations)\n",
    "    refused_agg.columns = pd.Index(['REFUSED_' + e[0] + \"_\" + e[1].upper() for e in refused_agg.columns.tolist()])\n",
    "    prev_agg = prev_agg.join(refused_agg, how='left', on='SK_ID_CURR')\n",
    "    \n",
    "    del refused, refused_agg, approved, approved_agg, prev\n",
    "    gc.collect()\n",
    "    \n",
    "    return prev_agg"
   ]
  },
  {
   "cell_type": "markdown",
   "id": "2753eb0a",
   "metadata": {
    "tags": []
   },
   "source": [
    "<div style=\"background-color: #6D83C5;\" >\n",
    "    <h3 style=\"margin: auto; padding: 20px; color:#fff; \">Pos Cash\n",
    "</div>"
   ]
  },
  {
   "cell_type": "code",
   "execution_count": 7,
   "id": "59885c3c",
   "metadata": {
    "tags": []
   },
   "outputs": [],
   "source": [
    "# Preprocess POS_CASH_balance.csv\n",
    "def pos_cash(num_rows=None, nan_as_category=True):\n",
    "    \n",
    "    # Read data\n",
    "    pos = pd.read_csv(r\"app_POS_CASh.csv\", nrows=num_rows)\n",
    "    \n",
    "    # Categorical features with One-Hot encode\n",
    "    pos, cat_cols = one_hot_encoder(pos, nan_as_category=True)\n",
    "    \n",
    "    # Features\n",
    "    aggregations = {\n",
    "        'MONTHS_BALANCE': ['max', 'mean', 'size'],\n",
    "        'SK_DPD': ['max', 'mean'],\n",
    "        'SK_DPD_DEF': ['max', 'mean']\n",
    "    }\n",
    "    \n",
    "    for cat in cat_cols:\n",
    "        aggregations[cat] = ['mean']\n",
    "    \n",
    "    pos_agg = pos.groupby('SK_ID_CURR').agg(aggregations)\n",
    "    pos_agg.columns = pd.Index(['POS_' + e[0] + \"_\" + e[1].upper() for e in pos_agg.columns.tolist()])\n",
    "    \n",
    "    # Count pos cash accounts\n",
    "    pos_agg['POS_COUNT'] = pos.groupby('SK_ID_CURR').size()\n",
    "    \n",
    "    del pos\n",
    "    gc.collect()\n",
    "    \n",
    "    return pos_agg"
   ]
  },
  {
   "cell_type": "markdown",
   "id": "a6a56fa0",
   "metadata": {
    "tags": []
   },
   "source": [
    "<div style=\"background-color: #6D83C5;\" >\n",
    "    <h3 style=\"margin: auto; padding: 20px; color:#fff; \">Installments payments</h3>\n",
    "</div>"
   ]
  },
  {
   "cell_type": "code",
   "execution_count": 8,
   "id": "73c98ea2",
   "metadata": {},
   "outputs": [],
   "source": [
    "# Preprocess installments_payments.csv\n",
    "def installments_payments(num_rows=None, nan_as_category=True):\n",
    "    \n",
    "    # Read data\n",
    "    ins = pd.read_csv(r\"app_installments.csv\", nrows=num_rows)\n",
    "    \n",
    "    # Categorical features with One-Hot encode\n",
    "    ins, cat_cols = one_hot_encoder(ins, nan_as_category=True)\n",
    "    \n",
    "    # Percentage and difference paid in each installment (amount paid and installment value)\n",
    "    ins['PAYMENT_PERC'] = ins['AMT_PAYMENT'] / ins['AMT_INSTALMENT']\n",
    "    ins['PAYMENT_DIFF'] = ins['AMT_INSTALMENT'] - ins['AMT_PAYMENT']\n",
    "    \n",
    "    # Days past due and days before due (no negative values)\n",
    "    ins['DPD'] = ins['DAYS_ENTRY_PAYMENT'] - ins['DAYS_INSTALMENT']\n",
    "    ins['DBD'] = ins['DAYS_INSTALMENT'] - ins['DAYS_ENTRY_PAYMENT']\n",
    "    ins['DPD'] = ins['DPD'].apply(lambda x: x if x > 0 else 0)\n",
    "    ins['DBD'] = ins['DBD'].apply(lambda x: x if x > 0 else 0)\n",
    "    \n",
    "    # Features: Perform aggregations\n",
    "    aggregations = {\n",
    "        'NUM_INSTALMENT_VERSION': ['nunique'],\n",
    "        'DPD': ['max', 'mean', 'sum'],\n",
    "        'DBD': ['max', 'mean', 'sum'],\n",
    "        'PAYMENT_PERC': ['max', 'mean', 'sum', 'var'],\n",
    "        'PAYMENT_DIFF': ['max', 'mean', 'sum', 'var'],\n",
    "        'AMT_INSTALMENT': ['max', 'mean', 'sum'],\n",
    "        'AMT_PAYMENT': ['min', 'max', 'mean', 'sum'],\n",
    "        'DAYS_ENTRY_PAYMENT': ['max', 'mean', 'sum']\n",
    "    }\n",
    "    \n",
    "    for cat in cat_cols:\n",
    "        aggregations[cat] = ['mean']\n",
    "        \n",
    "    ins_agg = ins.groupby('SK_ID_CURR').agg(aggregations)\n",
    "    ins_agg.columns = pd.Index(['INSTAL_' + e[0] + \"_\" + e[1].upper() for e in ins_agg.columns.tolist()])\n",
    "    \n",
    "    # Count installments accounts\n",
    "    ins_agg['INSTAL_COUNT'] = ins.groupby('SK_ID_CURR').size()\n",
    "    \n",
    "    del ins\n",
    "    gc.collect()\n",
    "    \n",
    "    return ins_agg"
   ]
  },
  {
   "cell_type": "markdown",
   "id": "6882ff1b",
   "metadata": {
    "tags": []
   },
   "source": [
    "<div style=\"background-color: #6D83C5;\" >\n",
    "    <h3 style=\"margin: auto; padding: 20px; color:#fff; \">Credit Card Balance</h3>\n",
    "</div>"
   ]
  },
  {
   "cell_type": "code",
   "execution_count": 9,
   "id": "80c5410b",
   "metadata": {},
   "outputs": [],
   "source": [
    "# Preprocess credit_card_balance.csv\n",
    "def credit_card_balance(num_rows=None, nan_as_category=True):\n",
    "    \n",
    "    # Read data\n",
    "    cc = pd.read_csv(r\"app_credit.csv\", nrows=num_rows)\n",
    "    \n",
    "    # Categorical features with One-Hot encode\n",
    "    cc, cat_cols = one_hot_encoder(cc, nan_as_category=True)\n",
    "    \n",
    "    # General aggregations\n",
    "    cc.drop(['SK_ID_PREV'], axis= 1, inplace = True)\n",
    "    cc_agg = cc.groupby('SK_ID_CURR').agg(['min', 'max', 'mean', 'sum', 'var'])\n",
    "    cc_agg.columns = pd.Index(['CC_' + e[0] + \"_\" + e[1].upper() for e in cc_agg.columns.tolist()])\n",
    "    \n",
    "    # Count credit card lines\n",
    "    cc_agg['CC_COUNT'] = cc.groupby('SK_ID_CURR').size()\n",
    "    \n",
    "    del cc\n",
    "    gc.collect()\n",
    "    \n",
    "    return cc_agg"
   ]
  },
  {
   "cell_type": "markdown",
   "id": "ba76e935",
   "metadata": {},
   "source": [
    "<div style=\"background-color: #6D83C5;\" >\n",
    "    <h3 style=\"margin: auto; padding: 20px; color:#fff; \">LightGBM GBDT with KFold or Stratified KFold<br>\n",
    "</h3>\n",
    "</div>\n",
    "Parameters from Tilii kernel: https://www.kaggle.com/tilii7/olivier-lightgbm-parameters-by-bayesian-opt/code"
   ]
  },
  {
   "cell_type": "code",
   "execution_count": 93,
   "id": "41ffee32",
   "metadata": {},
   "outputs": [],
   "source": [
    "def kfold_lightgbm(df, num_folds, stratified = False, debug= True):\n",
    "    # Divide in training/validation and test data\n",
    "    train_df = df[df['TARGET'].notnull()]\n",
    "    test_df = df[df['TARGET'].isnull()]\n",
    "    print(\"Starting LightGBM. Train shape: {}, test shape: {}\".format(train_df.shape, test_df.shape))\n",
    "    del df\n",
    "    gc.collect()\n",
    "    # Cross validation model\n",
    "    if stratified:\n",
    "        folds = StratifiedKFold(n_splits= num_folds, shuffle=True, random_state=1001)\n",
    "    else:\n",
    "        folds = KFold(n_splits= num_folds, shuffle=True, random_state=1001)\n",
    "    # Create arrays and dataframes to store results\n",
    "    oof_preds = np.zeros(train_df.shape[0])\n",
    "    sub_preds = np.zeros(test_df.shape[0])\n",
    "    feature_importance_df = pd.DataFrame()\n",
    "    feats = [f for f in train_df.columns if f not in ['TARGET','SK_ID_CURR','SK_ID_BUREAU','SK_ID_PREV','index']]\n",
    "    \n",
    "    for n_fold, (train_idx, valid_idx) in enumerate(folds.split(train_df[feats], train_df['TARGET'])):\n",
    "        train_x, train_y = train_df[feats].iloc[train_idx], train_df['TARGET'].iloc[train_idx]\n",
    "        valid_x, valid_y = train_df[feats].iloc[valid_idx], train_df['TARGET'].iloc[valid_idx]\n",
    "\n",
    "        # LightGBM parameters found by Bayesian optimization\n",
    "        clf = LGBMClassifier(\n",
    "            nthread=4,\n",
    "            n_estimators=10000,\n",
    "            learning_rate=0.02,\n",
    "            num_leaves=34,\n",
    "            colsample_bytree=0.9497036,\n",
    "            subsample=0.8715623,\n",
    "            max_depth=8,\n",
    "            reg_alpha=0.041545473,\n",
    "            reg_lambda=0.0735294,\n",
    "            min_split_gain=0.0222415,\n",
    "            min_child_weight=39.3259775,\n",
    "            silent=-1,\n",
    "            verbose=-1, )\n",
    "        clf.fit(train_x, train_y, eval_set=[(train_x, train_y), (valid_x, valid_y)], \n",
    "            eval_metric= 'auc', verbose= 200, early_stopping_rounds= 200)\n",
    "        oof_preds[valid_idx] = clf.predict_proba(valid_x, num_iteration=clf.best_iteration_)[:, 1]\n",
    "        #sub_preds += clf.predict_proba(test_df[feats], num_iteration=clf.best_iteration_)[:, 1] / folds.n_splits\n",
    "        fold_importance_df = pd.DataFrame()\n",
    "        fold_importance_df[\"feature\"] = feats\n",
    "        fold_importance_df[\"importance\"] = clf.feature_importances_\n",
    "        fold_importance_df[\"fold\"] = n_fold + 1\n",
    "        feature_importance_df = pd.concat([feature_importance_df, fold_importance_df], axis=0)\n",
    "        print('Fold %2d AUC : %.6f' % (n_fold + 1, roc_auc_score(valid_y, oof_preds[valid_idx])))\n",
    "        del clf, train_x, train_y, valid_x, valid_y\n",
    "        gc.collect()\n",
    "    print('Full AUC score %.6f' % roc_auc_score(train_df['TARGET'], oof_preds))\n",
    "    # Write submission file and plot feature importance\n",
    "    if not debug:\n",
    "        test_df['TARGET'] = sub_preds\n",
    "        test_df[['SK_ID_CURR', 'TARGET']].to_csv(submission_file_name, index= False)\n",
    "    display_importances(feature_importance_df)\n",
    "    return feature_importance_df"
   ]
  },
  {
   "cell_type": "code",
   "execution_count": 89,
   "id": "24c2e2b8",
   "metadata": {},
   "outputs": [],
   "source": [
    "def display_importances(feature_importance_df_):\n",
    "    cols = feature_importance_df_[[\"feature\", \"importance\"]].groupby(\"feature\").mean().sort_values(by=\"importance\", ascending=False)[:40].index\n",
    "    best_features = feature_importance_df_.loc[feature_importance_df_.feature.isin(cols)]\n",
    "    plt.figure(figsize=(8, 10))\n",
    "    sns.barplot(x=\"importance\", y=\"feature\", data=best_features.sort_values(by=\"importance\", ascending=False))\n",
    "    plt.title('LightGBM Features (avg over folds)')\n",
    "    plt.tight_layout()\n",
    "    plt.savefig('lgbm_importances01.png')"
   ]
  },
  {
   "cell_type": "markdown",
   "id": "4881d595",
   "metadata": {
    "tags": []
   },
   "source": [
    "<div style=\"background-color: #506AB9;\" >\n",
    "    <h2 style=\"margin: auto; padding: 20px; color:#fff; \">3. Main function</h2>\n",
    "</div>"
   ]
  },
  {
   "cell_type": "code",
   "execution_count": 12,
   "id": "878d9a8f",
   "metadata": {
    "tags": []
   },
   "outputs": [],
   "source": [
    "def main(debug=False):      \n",
    "    # To test with less data\n",
    "    num_rows = 10000 if debug else None    \n",
    "    with timer(\"Process Train/Test df\"):    \n",
    "        df = application_train_test(num_rows)\n",
    "        print(\"\\n\")\n",
    "        print(\">> application_train_test\")\n",
    "        print(\"Train/Test df shape:\", df.shape)\n",
    "        #display(df.head())\n",
    "    \n",
    "    with timer(\"Process bureau and bureau_balance\"):\n",
    "        bureau = bureau_and_balance(num_rows)\n",
    "        print(\"\\n\")\n",
    "        print(\">> bureau_and_balance\")\n",
    "        print(\"Bureau df shape:\", bureau.shape)\n",
    "        df = df.join(bureau, how='left', on='SK_ID_CURR')\n",
    "        del bureau\n",
    "        gc.collect()\n",
    "        #display(df.head())\n",
    "        \n",
    "        \n",
    "    with timer(\"Process previous_applications\"):\n",
    "        prev = previous_applications(num_rows)\n",
    "        print(\"\\n\")\n",
    "        print(\">> previous_applications\")\n",
    "        print(\"Previous applications df shape:\", prev.shape)\n",
    "        df = df.join(prev, how='left', on='SK_ID_CURR')\n",
    "        del prev\n",
    "        gc.collect()\n",
    "        #display(df.head())\n",
    "\n",
    "        \n",
    "    with timer(\"Process POS-CASH balance\"):\n",
    "        pos = pos_cash(num_rows)\n",
    "        print(\"\\n\")\n",
    "        print(\">> pos_cash\")\n",
    "        print(\"Pos-cash balance df shape:\", pos.shape)\n",
    "        df = df.join(pos, how='left', on='SK_ID_CURR')\n",
    "        del pos\n",
    "        gc.collect()\n",
    "        #display(df.head())\n",
    "        \n",
    "\n",
    "    with timer(\"Process installments payments\"):\n",
    "        ins = installments_payments(num_rows)\n",
    "        print(\"\\n\")\n",
    "        print(\">> installments_payments\")\n",
    "        print(\"Installments payments df shape:\", ins.shape)\n",
    "        df = df.join(ins, how='left', on='SK_ID_CURR')\n",
    "        del ins\n",
    "        gc.collect()\n",
    "        #display(df.head())\n",
    "        \n",
    "    with timer(\"Process credit card balance\"):\n",
    "        cc = credit_card_balance(num_rows)\n",
    "        print(\"\\n\")\n",
    "        print(\">> credit_card_balance\")\n",
    "        print(\"Credit card balance df shape:\", cc.shape)\n",
    "        df = df.join(cc, how='left', on='SK_ID_CURR')\n",
    "        del cc\n",
    "        gc.collect()\n",
    "\n",
    "   # with timer(\"Run LightGBM with kfold\"):\n",
    "   #     feat_importance = kfold_lightgbm(df, num_folds= 10, stratified= False, debug= debug)\n",
    "     \n",
    "        \n",
    "    return df\n",
    "    #return df, feat_importance\n"
   ]
  },
  {
   "cell_type": "code",
   "execution_count": 13,
   "id": "0baa6b25",
   "metadata": {},
   "outputs": [],
   "source": [
    "def ana_missing_data(df):    \n",
    "    total = df.isnull().sum().sort_values(ascending = False)\n",
    "    percent = (df.isnull().sum()/df.isnull().count()*100).sort_values(ascending = False)\n",
    "    missing_data  = pd.concat([total, percent], axis=1, keys=['Total', 'Percent'])\n",
    "    missing_data=missing_data[missing_data[\"Total\"]>0].head(10)\n",
    "    return missing_data"
   ]
  },
  {
   "cell_type": "markdown",
   "id": "96cdf85f",
   "metadata": {
    "tags": []
   },
   "source": [
    "<div style=\"background-color: #506AB9;\" >\n",
    "    <h2 style=\"margin: auto; padding: 20px; color:#fff; \">5. Results du préprocessing </h2>\n",
    "</div>"
   ]
  },
  {
   "cell_type": "code",
   "execution_count": 65,
   "id": "1e92abf1",
   "metadata": {
    "scrolled": false
   },
   "outputs": [
    {
     "name": "stdout",
     "output_type": "stream",
     "text": [
      "\n",
      "\n",
      ">> application_train_test\n",
      "Train/Test df shape: (307507, 247)\n",
      "Process Train/Test df - done in 5s\n",
      "\n",
      "\n",
      ">> bureau_and_balance\n",
      "Bureau df shape: (305811, 116)\n",
      "Process bureau and bureau_balance - done in 18s\n",
      "\n",
      "\n",
      ">> previous_applications\n",
      "Previous applications df shape: (338857, 249)\n",
      "Process previous_applications - done in 27s\n",
      "\n",
      "\n",
      ">> pos_cash\n",
      "Pos-cash balance df shape: (337252, 18)\n",
      "Process POS-CASH balance - done in 13s\n",
      "\n",
      "\n",
      ">> installments_payments\n",
      "Installments payments df shape: (339587, 26)\n",
      "Process installments payments - done in 24s\n",
      "\n",
      "\n",
      ">> credit_card_balance\n",
      "Credit card balance df shape: (103558, 141)\n",
      "Process credit card balance - done in 18s\n",
      "\n",
      "\n",
      "Full model run - done in 106s\n"
     ]
    }
   ],
   "source": [
    "with timer(\"\\n\\nFull model run\"):\n",
    "    df = main()\n",
    "    #df, feat_importance = kfold_lightgbm(df, num_folds= 10, stratified= False, debug= debug)"
   ]
  },
  {
   "cell_type": "markdown",
   "id": "9bf5462a",
   "metadata": {
    "tags": []
   },
   "source": [
    "<div style=\"background-color: #506AB9;\" >\n",
    "    <h2 style=\"margin: auto; padding: 20px; color:#fff; \">6 Optimizing memory usage</h2>\n",
    "</div>"
   ]
  },
  {
   "cell_type": "markdown",
   "id": "4b663980",
   "metadata": {
    "tags": []
   },
   "source": [
    "<div class=\"alert alert-block alert-warning\">\n",
    "    <p>We should optimize the memory usage to avoid problems during executions</p>\n",
    "</div>"
   ]
  },
  {
   "cell_type": "code",
   "execution_count": 66,
   "id": "83acef1e",
   "metadata": {},
   "outputs": [
    {
     "data": {
      "text/plain": [
       "(307507, 797)"
      ]
     },
     "execution_count": 66,
     "metadata": {},
     "output_type": "execute_result"
    }
   ],
   "source": [
    "df.shape"
   ]
  },
  {
   "cell_type": "code",
   "execution_count": 67,
   "id": "a54fa4aa",
   "metadata": {},
   "outputs": [
    {
     "data": {
      "text/html": [
       "<div>\n",
       "<style scoped>\n",
       "    .dataframe tbody tr th:only-of-type {\n",
       "        vertical-align: middle;\n",
       "    }\n",
       "\n",
       "    .dataframe tbody tr th {\n",
       "        vertical-align: top;\n",
       "    }\n",
       "\n",
       "    .dataframe thead th {\n",
       "        text-align: right;\n",
       "    }\n",
       "</style>\n",
       "<table border=\"1\" class=\"dataframe\">\n",
       "  <thead>\n",
       "    <tr style=\"text-align: right;\">\n",
       "      <th></th>\n",
       "      <th>Total</th>\n",
       "      <th>Percent</th>\n",
       "    </tr>\n",
       "  </thead>\n",
       "  <tbody>\n",
       "    <tr>\n",
       "      <th>REFUSED_APP_CREDIT_PERC_VAR</th>\n",
       "      <td>258350</td>\n",
       "      <td>84.014348</td>\n",
       "    </tr>\n",
       "    <tr>\n",
       "      <th>ACTIVE_MONTHS_BALANCE_SIZE_MEAN</th>\n",
       "      <td>230988</td>\n",
       "      <td>75.116339</td>\n",
       "    </tr>\n",
       "    <tr>\n",
       "      <th>ACTIVE_MONTHS_BALANCE_MAX_MAX</th>\n",
       "      <td>230988</td>\n",
       "      <td>75.116339</td>\n",
       "    </tr>\n",
       "    <tr>\n",
       "      <th>ACTIVE_MONTHS_BALANCE_MIN_MIN</th>\n",
       "      <td>230988</td>\n",
       "      <td>75.116339</td>\n",
       "    </tr>\n",
       "    <tr>\n",
       "      <th>CLOSED_MONTHS_BALANCE_MIN_MIN</th>\n",
       "      <td>226772</td>\n",
       "      <td>73.745313</td>\n",
       "    </tr>\n",
       "    <tr>\n",
       "      <th>CLOSED_MONTHS_BALANCE_MAX_MAX</th>\n",
       "      <td>226772</td>\n",
       "      <td>73.745313</td>\n",
       "    </tr>\n",
       "    <tr>\n",
       "      <th>CLOSED_MONTHS_BALANCE_SIZE_MEAN</th>\n",
       "      <td>226772</td>\n",
       "      <td>73.745313</td>\n",
       "    </tr>\n",
       "    <tr>\n",
       "      <th>CC_AMT_DRAWINGS_CURRENT_VAR</th>\n",
       "      <td>221234</td>\n",
       "      <td>71.944379</td>\n",
       "    </tr>\n",
       "    <tr>\n",
       "      <th>CC_NAME_CONTRACT_STATUS_Active_VAR</th>\n",
       "      <td>221234</td>\n",
       "      <td>71.944379</td>\n",
       "    </tr>\n",
       "    <tr>\n",
       "      <th>CC_NAME_CONTRACT_STATUS_Completed_VAR</th>\n",
       "      <td>221234</td>\n",
       "      <td>71.944379</td>\n",
       "    </tr>\n",
       "  </tbody>\n",
       "</table>\n",
       "</div>"
      ],
      "text/plain": [
       "                                        Total    Percent\n",
       "REFUSED_APP_CREDIT_PERC_VAR            258350  84.014348\n",
       "ACTIVE_MONTHS_BALANCE_SIZE_MEAN        230988  75.116339\n",
       "ACTIVE_MONTHS_BALANCE_MAX_MAX          230988  75.116339\n",
       "ACTIVE_MONTHS_BALANCE_MIN_MIN          230988  75.116339\n",
       "CLOSED_MONTHS_BALANCE_MIN_MIN          226772  73.745313\n",
       "CLOSED_MONTHS_BALANCE_MAX_MAX          226772  73.745313\n",
       "CLOSED_MONTHS_BALANCE_SIZE_MEAN        226772  73.745313\n",
       "CC_AMT_DRAWINGS_CURRENT_VAR            221234  71.944379\n",
       "CC_NAME_CONTRACT_STATUS_Active_VAR     221234  71.944379\n",
       "CC_NAME_CONTRACT_STATUS_Completed_VAR  221234  71.944379"
      ]
     },
     "execution_count": 67,
     "metadata": {},
     "output_type": "execute_result"
    }
   ],
   "source": [
    "ana_missing_data(df)"
   ]
  },
  {
   "cell_type": "code",
   "execution_count": 68,
   "id": "555640d8",
   "metadata": {},
   "outputs": [],
   "source": [
    "df[\"TARGET\"].fillna(value=-99, inplace=True)\n",
    "df[\"TARGET\"] = df[\"TARGET\"].astype(\"int8\")\n",
    "df[\"TARGET\"] = df[\"TARGET\"].replace(-99, np.nan)"
   ]
  },
  {
   "cell_type": "code",
   "execution_count": 69,
   "id": "4bbef0c7",
   "metadata": {},
   "outputs": [],
   "source": [
    "def memory_optimization(df):\n",
    "    \"\"\"\n",
    "    Method used to optimize the memory usage.\n",
    "    Parameters:\n",
    "    -----------------\n",
    "        df (pandas.DataFrame): Dataset to analyze\n",
    "        \n",
    "    Returns:\n",
    "    -----------------\n",
    "        df (pandas.DataFrame): Dataset optimized\n",
    "    \"\"\" \n",
    "    \n",
    "    for col in df.columns:\n",
    "        if df[col].dtype == \"int64\" and df[col].nunique() == 2:\n",
    "            df[col] = df[col].astype(\"int8\")\n",
    "            \n",
    "    for col in df.columns:\n",
    "        if df[col].dtype == \"float64\" and df[col].min() >= -2147483648 and df[col].max() <= 2147483648:\n",
    "            df[col] = df[col].astype(\"float32\")\n",
    "            \n",
    "    return df"
   ]
  },
  {
   "cell_type": "code",
   "execution_count": 94,
   "id": "8d2e84c4",
   "metadata": {
    "scrolled": false
   },
   "outputs": [
    {
     "name": "stdout",
     "output_type": "stream",
     "text": [
      "Starting LightGBM. Train shape: (307507, 608), test shape: (0, 608)\n"
     ]
    },
    {
     "name": "stderr",
     "output_type": "stream",
     "text": [
      "/home/bdiallo/miniconda3/lib/python3.8/site-packages/lightgbm/sklearn.py:598: UserWarning: 'silent' argument is deprecated and will be removed in a future release of LightGBM. Pass 'verbose' parameter via keyword arguments instead.\n",
      "  _log_warning(\"'silent' argument is deprecated and will be removed in a future release of LightGBM. \"\n",
      "/home/bdiallo/miniconda3/lib/python3.8/site-packages/lightgbm/sklearn.py:726: UserWarning: 'early_stopping_rounds' argument is deprecated and will be removed in a future release of LightGBM. Pass 'early_stopping()' callback via 'callbacks' argument instead.\n",
      "  _log_warning(\"'early_stopping_rounds' argument is deprecated and will be removed in a future release of LightGBM. \"\n",
      "/home/bdiallo/miniconda3/lib/python3.8/site-packages/lightgbm/sklearn.py:736: UserWarning: 'verbose' argument is deprecated and will be removed in a future release of LightGBM. Pass 'log_evaluation()' callback via 'callbacks' argument instead.\n",
      "  _log_warning(\"'verbose' argument is deprecated and will be removed in a future release of LightGBM. \"\n"
     ]
    },
    {
     "name": "stdout",
     "output_type": "stream",
     "text": [
      "[LightGBM] [Warning] num_threads is set with nthread=4, will be overridden by n_jobs=-1. Current value: num_threads=-1\n",
      "[200]\ttraining's auc: 0.793032\ttraining's binary_logloss: 0.236224\tvalid_1's auc: 0.774051\tvalid_1's binary_logloss: 0.24764\n",
      "[400]\ttraining's auc: 0.81542\ttraining's binary_logloss: 0.226952\tvalid_1's auc: 0.785132\tvalid_1's binary_logloss: 0.243515\n",
      "[600]\ttraining's auc: 0.830279\ttraining's binary_logloss: 0.221045\tvalid_1's auc: 0.789736\tvalid_1's binary_logloss: 0.241896\n",
      "[800]\ttraining's auc: 0.842818\ttraining's binary_logloss: 0.216022\tvalid_1's auc: 0.791842\tvalid_1's binary_logloss: 0.241144\n",
      "[1000]\ttraining's auc: 0.853661\ttraining's binary_logloss: 0.211611\tvalid_1's auc: 0.792894\tvalid_1's binary_logloss: 0.240728\n",
      "[1200]\ttraining's auc: 0.86339\ttraining's binary_logloss: 0.207524\tvalid_1's auc: 0.793501\tvalid_1's binary_logloss: 0.24052\n",
      "[1400]\ttraining's auc: 0.872006\ttraining's binary_logloss: 0.203751\tvalid_1's auc: 0.793672\tvalid_1's binary_logloss: 0.240476\n",
      "[1600]\ttraining's auc: 0.880336\ttraining's binary_logloss: 0.200011\tvalid_1's auc: 0.79403\tvalid_1's binary_logloss: 0.240414\n",
      "[1800]\ttraining's auc: 0.887932\ttraining's binary_logloss: 0.196547\tvalid_1's auc: 0.793975\tvalid_1's binary_logloss: 0.240466\n",
      "Fold  1 AUC : 0.794110\n"
     ]
    },
    {
     "name": "stderr",
     "output_type": "stream",
     "text": [
      "/home/bdiallo/miniconda3/lib/python3.8/site-packages/lightgbm/sklearn.py:598: UserWarning: 'silent' argument is deprecated and will be removed in a future release of LightGBM. Pass 'verbose' parameter via keyword arguments instead.\n",
      "  _log_warning(\"'silent' argument is deprecated and will be removed in a future release of LightGBM. \"\n",
      "/home/bdiallo/miniconda3/lib/python3.8/site-packages/lightgbm/sklearn.py:726: UserWarning: 'early_stopping_rounds' argument is deprecated and will be removed in a future release of LightGBM. Pass 'early_stopping()' callback via 'callbacks' argument instead.\n",
      "  _log_warning(\"'early_stopping_rounds' argument is deprecated and will be removed in a future release of LightGBM. \"\n",
      "/home/bdiallo/miniconda3/lib/python3.8/site-packages/lightgbm/sklearn.py:736: UserWarning: 'verbose' argument is deprecated and will be removed in a future release of LightGBM. Pass 'log_evaluation()' callback via 'callbacks' argument instead.\n",
      "  _log_warning(\"'verbose' argument is deprecated and will be removed in a future release of LightGBM. \"\n"
     ]
    },
    {
     "name": "stdout",
     "output_type": "stream",
     "text": [
      "[LightGBM] [Warning] num_threads is set with nthread=4, will be overridden by n_jobs=-1. Current value: num_threads=-1\n",
      "[200]\ttraining's auc: 0.793077\ttraining's binary_logloss: 0.236861\tvalid_1's auc: 0.774321\tvalid_1's binary_logloss: 0.242567\n",
      "[400]\ttraining's auc: 0.815768\ttraining's binary_logloss: 0.227548\tvalid_1's auc: 0.783969\tvalid_1's binary_logloss: 0.238273\n",
      "[600]\ttraining's auc: 0.830527\ttraining's binary_logloss: 0.221604\tvalid_1's auc: 0.786939\tvalid_1's binary_logloss: 0.237022\n",
      "[800]\ttraining's auc: 0.842844\ttraining's binary_logloss: 0.216713\tvalid_1's auc: 0.788803\tvalid_1's binary_logloss: 0.236393\n",
      "[1000]\ttraining's auc: 0.85348\ttraining's binary_logloss: 0.2124\tvalid_1's auc: 0.789767\tvalid_1's binary_logloss: 0.236064\n",
      "[1200]\ttraining's auc: 0.863045\ttraining's binary_logloss: 0.208448\tvalid_1's auc: 0.790239\tvalid_1's binary_logloss: 0.235903\n",
      "[1400]\ttraining's auc: 0.871668\ttraining's binary_logloss: 0.204669\tvalid_1's auc: 0.790404\tvalid_1's binary_logloss: 0.23583\n",
      "[1600]\ttraining's auc: 0.879888\ttraining's binary_logloss: 0.200945\tvalid_1's auc: 0.790727\tvalid_1's binary_logloss: 0.235694\n",
      "[1800]\ttraining's auc: 0.887211\ttraining's binary_logloss: 0.197508\tvalid_1's auc: 0.790663\tvalid_1's binary_logloss: 0.235709\n",
      "Fold  2 AUC : 0.790729\n"
     ]
    },
    {
     "name": "stderr",
     "output_type": "stream",
     "text": [
      "/home/bdiallo/miniconda3/lib/python3.8/site-packages/lightgbm/sklearn.py:598: UserWarning: 'silent' argument is deprecated and will be removed in a future release of LightGBM. Pass 'verbose' parameter via keyword arguments instead.\n",
      "  _log_warning(\"'silent' argument is deprecated and will be removed in a future release of LightGBM. \"\n",
      "/home/bdiallo/miniconda3/lib/python3.8/site-packages/lightgbm/sklearn.py:726: UserWarning: 'early_stopping_rounds' argument is deprecated and will be removed in a future release of LightGBM. Pass 'early_stopping()' callback via 'callbacks' argument instead.\n",
      "  _log_warning(\"'early_stopping_rounds' argument is deprecated and will be removed in a future release of LightGBM. \"\n",
      "/home/bdiallo/miniconda3/lib/python3.8/site-packages/lightgbm/sklearn.py:736: UserWarning: 'verbose' argument is deprecated and will be removed in a future release of LightGBM. Pass 'log_evaluation()' callback via 'callbacks' argument instead.\n",
      "  _log_warning(\"'verbose' argument is deprecated and will be removed in a future release of LightGBM. \"\n"
     ]
    },
    {
     "name": "stdout",
     "output_type": "stream",
     "text": [
      "[LightGBM] [Warning] num_threads is set with nthread=4, will be overridden by n_jobs=-1. Current value: num_threads=-1\n",
      "[200]\ttraining's auc: 0.793739\ttraining's binary_logloss: 0.236313\tvalid_1's auc: 0.765179\tvalid_1's binary_logloss: 0.247427\n",
      "[400]\ttraining's auc: 0.816331\ttraining's binary_logloss: 0.227063\tvalid_1's auc: 0.775975\tvalid_1's binary_logloss: 0.24344\n",
      "[600]\ttraining's auc: 0.831417\ttraining's binary_logloss: 0.220961\tvalid_1's auc: 0.779498\tvalid_1's binary_logloss: 0.242212\n",
      "[800]\ttraining's auc: 0.843317\ttraining's binary_logloss: 0.216178\tvalid_1's auc: 0.781701\tvalid_1's binary_logloss: 0.24154\n",
      "[1000]\ttraining's auc: 0.853368\ttraining's binary_logloss: 0.212037\tvalid_1's auc: 0.782582\tvalid_1's binary_logloss: 0.241261\n",
      "[1200]\ttraining's auc: 0.863093\ttraining's binary_logloss: 0.207976\tvalid_1's auc: 0.783174\tvalid_1's binary_logloss: 0.241051\n",
      "[1400]\ttraining's auc: 0.871962\ttraining's binary_logloss: 0.204133\tvalid_1's auc: 0.783403\tvalid_1's binary_logloss: 0.24095\n",
      "[1600]\ttraining's auc: 0.880022\ttraining's binary_logloss: 0.200533\tvalid_1's auc: 0.783885\tvalid_1's binary_logloss: 0.240837\n",
      "[1800]\ttraining's auc: 0.887798\ttraining's binary_logloss: 0.196949\tvalid_1's auc: 0.783779\tvalid_1's binary_logloss: 0.240923\n",
      "Fold  3 AUC : 0.784017\n"
     ]
    },
    {
     "name": "stderr",
     "output_type": "stream",
     "text": [
      "/home/bdiallo/miniconda3/lib/python3.8/site-packages/lightgbm/sklearn.py:598: UserWarning: 'silent' argument is deprecated and will be removed in a future release of LightGBM. Pass 'verbose' parameter via keyword arguments instead.\n",
      "  _log_warning(\"'silent' argument is deprecated and will be removed in a future release of LightGBM. \"\n",
      "/home/bdiallo/miniconda3/lib/python3.8/site-packages/lightgbm/sklearn.py:726: UserWarning: 'early_stopping_rounds' argument is deprecated and will be removed in a future release of LightGBM. Pass 'early_stopping()' callback via 'callbacks' argument instead.\n",
      "  _log_warning(\"'early_stopping_rounds' argument is deprecated and will be removed in a future release of LightGBM. \"\n",
      "/home/bdiallo/miniconda3/lib/python3.8/site-packages/lightgbm/sklearn.py:736: UserWarning: 'verbose' argument is deprecated and will be removed in a future release of LightGBM. Pass 'log_evaluation()' callback via 'callbacks' argument instead.\n",
      "  _log_warning(\"'verbose' argument is deprecated and will be removed in a future release of LightGBM. \"\n"
     ]
    },
    {
     "name": "stdout",
     "output_type": "stream",
     "text": [
      "[LightGBM] [Warning] num_threads is set with nthread=4, will be overridden by n_jobs=-1. Current value: num_threads=-1\n",
      "[200]\ttraining's auc: 0.792835\ttraining's binary_logloss: 0.23696\tvalid_1's auc: 0.775783\tvalid_1's binary_logloss: 0.241967\n",
      "[400]\ttraining's auc: 0.815521\ttraining's binary_logloss: 0.227602\tvalid_1's auc: 0.78623\tvalid_1's binary_logloss: 0.237627\n",
      "[600]\ttraining's auc: 0.830348\ttraining's binary_logloss: 0.221679\tvalid_1's auc: 0.78981\tvalid_1's binary_logloss: 0.236236\n",
      "[800]\ttraining's auc: 0.842277\ttraining's binary_logloss: 0.216908\tvalid_1's auc: 0.791424\tvalid_1's binary_logloss: 0.235578\n",
      "[1000]\ttraining's auc: 0.85274\ttraining's binary_logloss: 0.212597\tvalid_1's auc: 0.792233\tvalid_1's binary_logloss: 0.235273\n",
      "[1200]\ttraining's auc: 0.862499\ttraining's binary_logloss: 0.208522\tvalid_1's auc: 0.792773\tvalid_1's binary_logloss: 0.235046\n",
      "[1400]\ttraining's auc: 0.871417\ttraining's binary_logloss: 0.204613\tvalid_1's auc: 0.792909\tvalid_1's binary_logloss: 0.234937\n",
      "[1600]\ttraining's auc: 0.879733\ttraining's binary_logloss: 0.20092\tvalid_1's auc: 0.793078\tvalid_1's binary_logloss: 0.234886\n",
      "[1800]\ttraining's auc: 0.887314\ttraining's binary_logloss: 0.197397\tvalid_1's auc: 0.793172\tvalid_1's binary_logloss: 0.234843\n",
      "[2000]\ttraining's auc: 0.894226\ttraining's binary_logloss: 0.194035\tvalid_1's auc: 0.793195\tvalid_1's binary_logloss: 0.234847\n",
      "Fold  4 AUC : 0.793295\n"
     ]
    },
    {
     "name": "stderr",
     "output_type": "stream",
     "text": [
      "/home/bdiallo/miniconda3/lib/python3.8/site-packages/lightgbm/sklearn.py:598: UserWarning: 'silent' argument is deprecated and will be removed in a future release of LightGBM. Pass 'verbose' parameter via keyword arguments instead.\n",
      "  _log_warning(\"'silent' argument is deprecated and will be removed in a future release of LightGBM. \"\n",
      "/home/bdiallo/miniconda3/lib/python3.8/site-packages/lightgbm/sklearn.py:726: UserWarning: 'early_stopping_rounds' argument is deprecated and will be removed in a future release of LightGBM. Pass 'early_stopping()' callback via 'callbacks' argument instead.\n",
      "  _log_warning(\"'early_stopping_rounds' argument is deprecated and will be removed in a future release of LightGBM. \"\n",
      "/home/bdiallo/miniconda3/lib/python3.8/site-packages/lightgbm/sklearn.py:736: UserWarning: 'verbose' argument is deprecated and will be removed in a future release of LightGBM. Pass 'log_evaluation()' callback via 'callbacks' argument instead.\n",
      "  _log_warning(\"'verbose' argument is deprecated and will be removed in a future release of LightGBM. \"\n"
     ]
    },
    {
     "name": "stdout",
     "output_type": "stream",
     "text": [
      "[LightGBM] [Warning] num_threads is set with nthread=4, will be overridden by n_jobs=-1. Current value: num_threads=-1\n",
      "[200]\ttraining's auc: 0.792725\ttraining's binary_logloss: 0.237614\tvalid_1's auc: 0.776459\tvalid_1's binary_logloss: 0.235079\n",
      "[400]\ttraining's auc: 0.815273\ttraining's binary_logloss: 0.228307\tvalid_1's auc: 0.787001\tvalid_1's binary_logloss: 0.230816\n",
      "[600]\ttraining's auc: 0.83029\ttraining's binary_logloss: 0.222314\tvalid_1's auc: 0.790769\tvalid_1's binary_logloss: 0.229413\n",
      "[800]\ttraining's auc: 0.842138\ttraining's binary_logloss: 0.217538\tvalid_1's auc: 0.792356\tvalid_1's binary_logloss: 0.228798\n",
      "[1000]\ttraining's auc: 0.852475\ttraining's binary_logloss: 0.213281\tvalid_1's auc: 0.793592\tvalid_1's binary_logloss: 0.228395\n",
      "[1200]\ttraining's auc: 0.861947\ttraining's binary_logloss: 0.209295\tvalid_1's auc: 0.794002\tvalid_1's binary_logloss: 0.228199\n",
      "[1400]\ttraining's auc: 0.870773\ttraining's binary_logloss: 0.205462\tvalid_1's auc: 0.794523\tvalid_1's binary_logloss: 0.227968\n",
      "[1600]\ttraining's auc: 0.878888\ttraining's binary_logloss: 0.2018\tvalid_1's auc: 0.794626\tvalid_1's binary_logloss: 0.227922\n",
      "[1800]\ttraining's auc: 0.886423\ttraining's binary_logloss: 0.198284\tvalid_1's auc: 0.794412\tvalid_1's binary_logloss: 0.227984\n",
      "Fold  5 AUC : 0.794792\n"
     ]
    },
    {
     "name": "stderr",
     "output_type": "stream",
     "text": [
      "/home/bdiallo/miniconda3/lib/python3.8/site-packages/lightgbm/sklearn.py:598: UserWarning: 'silent' argument is deprecated and will be removed in a future release of LightGBM. Pass 'verbose' parameter via keyword arguments instead.\n",
      "  _log_warning(\"'silent' argument is deprecated and will be removed in a future release of LightGBM. \"\n",
      "/home/bdiallo/miniconda3/lib/python3.8/site-packages/lightgbm/sklearn.py:726: UserWarning: 'early_stopping_rounds' argument is deprecated and will be removed in a future release of LightGBM. Pass 'early_stopping()' callback via 'callbacks' argument instead.\n",
      "  _log_warning(\"'early_stopping_rounds' argument is deprecated and will be removed in a future release of LightGBM. \"\n",
      "/home/bdiallo/miniconda3/lib/python3.8/site-packages/lightgbm/sklearn.py:736: UserWarning: 'verbose' argument is deprecated and will be removed in a future release of LightGBM. Pass 'log_evaluation()' callback via 'callbacks' argument instead.\n",
      "  _log_warning(\"'verbose' argument is deprecated and will be removed in a future release of LightGBM. \"\n"
     ]
    },
    {
     "name": "stdout",
     "output_type": "stream",
     "text": [
      "[LightGBM] [Warning] num_threads is set with nthread=4, will be overridden by n_jobs=-1. Current value: num_threads=-1\n",
      "[200]\ttraining's auc: 0.793574\ttraining's binary_logloss: 0.236673\tvalid_1's auc: 0.764221\tvalid_1's binary_logloss: 0.24408\n",
      "[400]\ttraining's auc: 0.816062\ttraining's binary_logloss: 0.227395\tvalid_1's auc: 0.775766\tvalid_1's binary_logloss: 0.240087\n",
      "[600]\ttraining's auc: 0.830726\ttraining's binary_logloss: 0.22159\tvalid_1's auc: 0.779914\tvalid_1's binary_logloss: 0.238719\n",
      "[800]\ttraining's auc: 0.843054\ttraining's binary_logloss: 0.216711\tvalid_1's auc: 0.781926\tvalid_1's binary_logloss: 0.238024\n",
      "[1000]\ttraining's auc: 0.853576\ttraining's binary_logloss: 0.212428\tvalid_1's auc: 0.782884\tvalid_1's binary_logloss: 0.237632\n",
      "[1200]\ttraining's auc: 0.863231\ttraining's binary_logloss: 0.208348\tvalid_1's auc: 0.783352\tvalid_1's binary_logloss: 0.237485\n",
      "[1400]\ttraining's auc: 0.872213\ttraining's binary_logloss: 0.204437\tvalid_1's auc: 0.783394\tvalid_1's binary_logloss: 0.237488\n",
      "Fold  6 AUC : 0.783469\n"
     ]
    },
    {
     "name": "stderr",
     "output_type": "stream",
     "text": [
      "/home/bdiallo/miniconda3/lib/python3.8/site-packages/lightgbm/sklearn.py:598: UserWarning: 'silent' argument is deprecated and will be removed in a future release of LightGBM. Pass 'verbose' parameter via keyword arguments instead.\n",
      "  _log_warning(\"'silent' argument is deprecated and will be removed in a future release of LightGBM. \"\n",
      "/home/bdiallo/miniconda3/lib/python3.8/site-packages/lightgbm/sklearn.py:726: UserWarning: 'early_stopping_rounds' argument is deprecated and will be removed in a future release of LightGBM. Pass 'early_stopping()' callback via 'callbacks' argument instead.\n",
      "  _log_warning(\"'early_stopping_rounds' argument is deprecated and will be removed in a future release of LightGBM. \"\n",
      "/home/bdiallo/miniconda3/lib/python3.8/site-packages/lightgbm/sklearn.py:736: UserWarning: 'verbose' argument is deprecated and will be removed in a future release of LightGBM. Pass 'log_evaluation()' callback via 'callbacks' argument instead.\n",
      "  _log_warning(\"'verbose' argument is deprecated and will be removed in a future release of LightGBM. \"\n"
     ]
    },
    {
     "name": "stdout",
     "output_type": "stream",
     "text": [
      "[LightGBM] [Warning] num_threads is set with nthread=4, will be overridden by n_jobs=-1. Current value: num_threads=-1\n",
      "[200]\ttraining's auc: 0.793287\ttraining's binary_logloss: 0.236954\tvalid_1's auc: 0.772612\tvalid_1's binary_logloss: 0.241445\n",
      "[400]\ttraining's auc: 0.815852\ttraining's binary_logloss: 0.227655\tvalid_1's auc: 0.782836\tvalid_1's binary_logloss: 0.237243\n",
      "[600]\ttraining's auc: 0.831316\ttraining's binary_logloss: 0.221479\tvalid_1's auc: 0.786747\tvalid_1's binary_logloss: 0.235734\n",
      "[800]\ttraining's auc: 0.84358\ttraining's binary_logloss: 0.216572\tvalid_1's auc: 0.787985\tvalid_1's binary_logloss: 0.235261\n",
      "[1000]\ttraining's auc: 0.853883\ttraining's binary_logloss: 0.212381\tvalid_1's auc: 0.788539\tvalid_1's binary_logloss: 0.235077\n",
      "[1200]\ttraining's auc: 0.863643\ttraining's binary_logloss: 0.208272\tvalid_1's auc: 0.788742\tvalid_1's binary_logloss: 0.234952\n",
      "[1400]\ttraining's auc: 0.872691\ttraining's binary_logloss: 0.204304\tvalid_1's auc: 0.788892\tvalid_1's binary_logloss: 0.234952\n",
      "Fold  7 AUC : 0.788872\n"
     ]
    },
    {
     "name": "stderr",
     "output_type": "stream",
     "text": [
      "/home/bdiallo/miniconda3/lib/python3.8/site-packages/lightgbm/sklearn.py:598: UserWarning: 'silent' argument is deprecated and will be removed in a future release of LightGBM. Pass 'verbose' parameter via keyword arguments instead.\n",
      "  _log_warning(\"'silent' argument is deprecated and will be removed in a future release of LightGBM. \"\n",
      "/home/bdiallo/miniconda3/lib/python3.8/site-packages/lightgbm/sklearn.py:726: UserWarning: 'early_stopping_rounds' argument is deprecated and will be removed in a future release of LightGBM. Pass 'early_stopping()' callback via 'callbacks' argument instead.\n",
      "  _log_warning(\"'early_stopping_rounds' argument is deprecated and will be removed in a future release of LightGBM. \"\n",
      "/home/bdiallo/miniconda3/lib/python3.8/site-packages/lightgbm/sklearn.py:736: UserWarning: 'verbose' argument is deprecated and will be removed in a future release of LightGBM. Pass 'log_evaluation()' callback via 'callbacks' argument instead.\n",
      "  _log_warning(\"'verbose' argument is deprecated and will be removed in a future release of LightGBM. \"\n"
     ]
    },
    {
     "name": "stdout",
     "output_type": "stream",
     "text": [
      "[LightGBM] [Warning] num_threads is set with nthread=4, will be overridden by n_jobs=-1. Current value: num_threads=-1\n",
      "[200]\ttraining's auc: 0.793407\ttraining's binary_logloss: 0.236469\tvalid_1's auc: 0.768096\tvalid_1's binary_logloss: 0.246063\n",
      "[400]\ttraining's auc: 0.815878\ttraining's binary_logloss: 0.227195\tvalid_1's auc: 0.779473\tvalid_1's binary_logloss: 0.241747\n",
      "[600]\ttraining's auc: 0.830771\ttraining's binary_logloss: 0.221264\tvalid_1's auc: 0.784107\tvalid_1's binary_logloss: 0.240108\n",
      "[800]\ttraining's auc: 0.842929\ttraining's binary_logloss: 0.216436\tvalid_1's auc: 0.786141\tvalid_1's binary_logloss: 0.239423\n",
      "[1000]\ttraining's auc: 0.853375\ttraining's binary_logloss: 0.21216\tvalid_1's auc: 0.787262\tvalid_1's binary_logloss: 0.239077\n",
      "[1200]\ttraining's auc: 0.862948\ttraining's binary_logloss: 0.208128\tvalid_1's auc: 0.787826\tvalid_1's binary_logloss: 0.238929\n",
      "[1400]\ttraining's auc: 0.87158\ttraining's binary_logloss: 0.204363\tvalid_1's auc: 0.788001\tvalid_1's binary_logloss: 0.238832\n",
      "[1600]\ttraining's auc: 0.879493\ttraining's binary_logloss: 0.200792\tvalid_1's auc: 0.788158\tvalid_1's binary_logloss: 0.238821\n",
      "Fold  8 AUC : 0.788226\n"
     ]
    },
    {
     "name": "stderr",
     "output_type": "stream",
     "text": [
      "/home/bdiallo/miniconda3/lib/python3.8/site-packages/lightgbm/sklearn.py:598: UserWarning: 'silent' argument is deprecated and will be removed in a future release of LightGBM. Pass 'verbose' parameter via keyword arguments instead.\n",
      "  _log_warning(\"'silent' argument is deprecated and will be removed in a future release of LightGBM. \"\n",
      "/home/bdiallo/miniconda3/lib/python3.8/site-packages/lightgbm/sklearn.py:726: UserWarning: 'early_stopping_rounds' argument is deprecated and will be removed in a future release of LightGBM. Pass 'early_stopping()' callback via 'callbacks' argument instead.\n",
      "  _log_warning(\"'early_stopping_rounds' argument is deprecated and will be removed in a future release of LightGBM. \"\n",
      "/home/bdiallo/miniconda3/lib/python3.8/site-packages/lightgbm/sklearn.py:736: UserWarning: 'verbose' argument is deprecated and will be removed in a future release of LightGBM. Pass 'log_evaluation()' callback via 'callbacks' argument instead.\n",
      "  _log_warning(\"'verbose' argument is deprecated and will be removed in a future release of LightGBM. \"\n"
     ]
    },
    {
     "name": "stdout",
     "output_type": "stream",
     "text": [
      "[LightGBM] [Warning] num_threads is set with nthread=4, will be overridden by n_jobs=-1. Current value: num_threads=-1\n",
      "[200]\ttraining's auc: 0.792839\ttraining's binary_logloss: 0.236677\tvalid_1's auc: 0.777886\tvalid_1's binary_logloss: 0.243346\n",
      "[400]\ttraining's auc: 0.815392\ttraining's binary_logloss: 0.227419\tvalid_1's auc: 0.78854\tvalid_1's binary_logloss: 0.239001\n",
      "[600]\ttraining's auc: 0.830239\ttraining's binary_logloss: 0.221463\tvalid_1's auc: 0.79262\tvalid_1's binary_logloss: 0.237421\n",
      "[800]\ttraining's auc: 0.842481\ttraining's binary_logloss: 0.21661\tvalid_1's auc: 0.794407\tvalid_1's binary_logloss: 0.236631\n",
      "[1000]\ttraining's auc: 0.853164\ttraining's binary_logloss: 0.212257\tvalid_1's auc: 0.795345\tvalid_1's binary_logloss: 0.236228\n",
      "[1200]\ttraining's auc: 0.863019\ttraining's binary_logloss: 0.20819\tvalid_1's auc: 0.795844\tvalid_1's binary_logloss: 0.23602\n",
      "[1400]\ttraining's auc: 0.872123\ttraining's binary_logloss: 0.204271\tvalid_1's auc: 0.795874\tvalid_1's binary_logloss: 0.235994\n",
      "Fold  9 AUC : 0.795981\n"
     ]
    },
    {
     "name": "stderr",
     "output_type": "stream",
     "text": [
      "/home/bdiallo/miniconda3/lib/python3.8/site-packages/lightgbm/sklearn.py:598: UserWarning: 'silent' argument is deprecated and will be removed in a future release of LightGBM. Pass 'verbose' parameter via keyword arguments instead.\n",
      "  _log_warning(\"'silent' argument is deprecated and will be removed in a future release of LightGBM. \"\n",
      "/home/bdiallo/miniconda3/lib/python3.8/site-packages/lightgbm/sklearn.py:726: UserWarning: 'early_stopping_rounds' argument is deprecated and will be removed in a future release of LightGBM. Pass 'early_stopping()' callback via 'callbacks' argument instead.\n",
      "  _log_warning(\"'early_stopping_rounds' argument is deprecated and will be removed in a future release of LightGBM. \"\n",
      "/home/bdiallo/miniconda3/lib/python3.8/site-packages/lightgbm/sklearn.py:736: UserWarning: 'verbose' argument is deprecated and will be removed in a future release of LightGBM. Pass 'log_evaluation()' callback via 'callbacks' argument instead.\n",
      "  _log_warning(\"'verbose' argument is deprecated and will be removed in a future release of LightGBM. \"\n"
     ]
    },
    {
     "name": "stdout",
     "output_type": "stream",
     "text": [
      "[LightGBM] [Warning] num_threads is set with nthread=4, will be overridden by n_jobs=-1. Current value: num_threads=-1\n",
      "[200]\ttraining's auc: 0.793408\ttraining's binary_logloss: 0.236892\tvalid_1's auc: 0.769268\tvalid_1's binary_logloss: 0.241673\n",
      "[400]\ttraining's auc: 0.815737\ttraining's binary_logloss: 0.227707\tvalid_1's auc: 0.78003\tvalid_1's binary_logloss: 0.237606\n",
      "[600]\ttraining's auc: 0.830633\ttraining's binary_logloss: 0.221734\tvalid_1's auc: 0.783735\tvalid_1's binary_logloss: 0.236175\n",
      "[800]\ttraining's auc: 0.842802\ttraining's binary_logloss: 0.216872\tvalid_1's auc: 0.785633\tvalid_1's binary_logloss: 0.235546\n",
      "[1000]\ttraining's auc: 0.853378\ttraining's binary_logloss: 0.212561\tvalid_1's auc: 0.786924\tvalid_1's binary_logloss: 0.235115\n",
      "[1200]\ttraining's auc: 0.86309\ttraining's binary_logloss: 0.208454\tvalid_1's auc: 0.787466\tvalid_1's binary_logloss: 0.234943\n",
      "[1400]\ttraining's auc: 0.871922\ttraining's binary_logloss: 0.204632\tvalid_1's auc: 0.787924\tvalid_1's binary_logloss: 0.234793\n",
      "[1600]\ttraining's auc: 0.880169\ttraining's binary_logloss: 0.200914\tvalid_1's auc: 0.788161\tvalid_1's binary_logloss: 0.234718\n",
      "[1800]\ttraining's auc: 0.887833\ttraining's binary_logloss: 0.197294\tvalid_1's auc: 0.788623\tvalid_1's binary_logloss: 0.23459\n",
      "Fold 10 AUC : 0.788674\n",
      "Full AUC score 0.790203\n"
     ]
    },
    {
     "data": {
      "image/png": "[encoded data removed]",
      "text/plain": [
       "<Figure size 576x720 with 1 Axes>"
      ]
     },
     "metadata": {
      "needs_background": "light"
     },
     "output_type": "display_data"
    }
   ],
   "source": [
    "feat_importance = kfold_lightgbm(df_essai, num_folds= 10)"
   ]
  },
  {
   "cell_type": "code",
   "execution_count": 70,
   "id": "7eed627a",
   "metadata": {},
   "outputs": [],
   "source": [
    "df = memory_optimization(df)"
   ]
  },
  {
   "cell_type": "markdown",
   "id": "985a598d",
   "metadata": {
    "tags": []
   },
   "source": [
    "<div class=\"alert alert-block alert-success\">\n",
    "    <p>We can see how the memory used has been reduced</p>\n",
    "</div>"
   ]
  },
  {
   "cell_type": "markdown",
   "id": "77734940",
   "metadata": {
    "tags": []
   },
   "source": [
    "<div style=\"background-color: #506AB9;\" >\n",
    "    <h2 style=\"margin: auto; padding: 20px; color:#fff; \">7. Missing-values</h2>\n",
    "</div>"
   ]
  },
  {
   "cell_type": "markdown",
   "id": "1dc49ef6",
   "metadata": {},
   "source": [
    "<div class=\"alert alert-block alert-info\">\n",
    "    <p>Now, we are going to treat the missing-values in all the dataset, to do that, we are going to do the following steps</p>\n",
    "    <ol>\n",
    "        <li><b>suppression des columns de plus de 60% de Missing values</b></li>\n",
    "        <li><b>Remplace of infinite-values with NaN</b></li>\n",
    "        <li><b>rFill missing-values with SimpleImputer</b> - There are 25 infinite values</li>\n",
    "    </ol> \n",
    "    <p>Let's start by identifying the features with infinite-values and replace them by missing-values\n",
    "   </p>\n",
    "</div>\n",
    "</div>"
   ]
  },
  {
   "cell_type": "code",
   "execution_count": 99,
   "id": "ba8963a8",
   "metadata": {},
   "outputs": [],
   "source": [
    "inf_cols = df.columns.to_series()[np.isinf(df).any()]"
   ]
  },
  {
   "cell_type": "code",
   "execution_count": 100,
   "id": "8da9ff02",
   "metadata": {},
   "outputs": [
    {
     "data": {
      "text/plain": [
       "Series([], dtype: object)"
      ]
     },
     "execution_count": 100,
     "metadata": {},
     "output_type": "execute_result"
    }
   ],
   "source": [
    "inf_cols"
   ]
  },
  {
   "cell_type": "code",
   "execution_count": 98,
   "id": "137a3bf3",
   "metadata": {},
   "outputs": [],
   "source": [
    "for col in inf_cols:\n",
    "    df[col] = df[col].replace([np.inf, -np.inf], np.nan)"
   ]
  },
  {
   "cell_type": "markdown",
   "id": "e8ce1ca1",
   "metadata": {},
   "source": [
    "<div class=\"alert alert-block alert-info\">\n",
    "    <p>Now, we are going to delete all columns with 20% or plus of missing-values. But first, we have to save the TARGET variable\n",
    "   </p>\n",
    "</div>\n",
    "</div>"
   ]
  },
  {
   "cell_type": "code",
   "execution_count": 74,
   "id": "e2850789",
   "metadata": {},
   "outputs": [],
   "source": [
    "#df_essai = df.dropna(thresh=0.8*len(df), axis=1)"
   ]
  },
  {
   "cell_type": "code",
   "execution_count": 101,
   "id": "636899c5",
   "metadata": {},
   "outputs": [
    {
     "data": {
      "text/plain": [
       "(307507, 608)"
      ]
     },
     "execution_count": 101,
     "metadata": {},
     "output_type": "execute_result"
    }
   ],
   "source": [
    "df_essai = df.loc[:, df.isnull().mean() < .6]\n",
    "df_essai.shape"
   ]
  },
  {
   "cell_type": "code",
   "execution_count": 78,
   "id": "fcd31091",
   "metadata": {},
   "outputs": [
    {
     "data": {
      "text/plain": [
       "0"
      ]
     },
     "execution_count": 78,
     "metadata": {},
     "output_type": "execute_result"
    }
   ],
   "source": [
    "# Deleting the dataset temporal\n",
    "del df_temp\n",
    "gc.collect()"
   ]
  },
  {
   "cell_type": "code",
   "execution_count": 104,
   "id": "88c7bb10",
   "metadata": {},
   "outputs": [],
   "source": [
    "nan_cols = [i for i in df_essai.columns if i!=\"TARGET\" and df_essai[i].isnull().any()]"
   ]
  },
  {
   "cell_type": "code",
   "execution_count": 80,
   "id": "16fdab55",
   "metadata": {},
   "outputs": [
    {
     "name": "stderr",
     "output_type": "stream",
     "text": [
      "/home/bdiallo/miniconda3/lib/python3.8/site-packages/pandas/core/generic.py:6392: SettingWithCopyWarning: \n",
      "A value is trying to be set on a copy of a slice from a DataFrame\n",
      "\n",
      "See the caveats in the documentation: https://pandas.pydata.org/pandas-docs/stable/user_guide/indexing.html#returning-a-view-versus-a-copy\n",
      "  return self._update_inplace(result)\n"
     ]
    }
   ],
   "source": [
    "for col in nan_cols:\n",
    "    mean_value = df_essai[col].mean()\n",
    "    df_essai[col].fillna(value=mean_value, inplace=True)"
   ]
  },
  {
   "cell_type": "code",
   "execution_count": 81,
   "id": "918b750a",
   "metadata": {},
   "outputs": [
    {
     "name": "stdout",
     "output_type": "stream",
     "text": [
      "<class 'pandas.core.frame.DataFrame'>\n",
      "Int64Index: 307507 entries, 0 to 307510\n",
      "Columns: 608 entries, SK_ID_CURR to INSTAL_COUNT\n",
      "dtypes: float32(465), float64(6), int8(4), uint8(133)\n",
      "memory usage: 602.1 MB\n"
     ]
    },
    {
     "data": {
      "text/plain": [
       "(None, (307507, 608))"
      ]
     },
     "execution_count": 81,
     "metadata": {},
     "output_type": "execute_result"
    }
   ],
   "source": [
    "df_essai.info(), df_essai.shape"
   ]
  },
  {
   "cell_type": "markdown",
   "id": "11adfd4e",
   "metadata": {},
   "source": [
    "<div class=\"alert alert-block alert-success\">\n",
    "    <p>Now, we only have missing values on the Target\n",
    "   </p>\n",
    "</div>\n",
    "</div>"
   ]
  },
  {
   "cell_type": "markdown",
   "id": "6d5115c6",
   "metadata": {
    "tags": []
   },
   "source": [
    "<div style=\"background-color: #506AB9;\" >\n",
    "    <h2 style=\"margin: auto; padding: 20px; color:#fff; \">8. Saving datasets</h2>\n",
    "</div>"
   ]
  },
  {
   "cell_type": "markdown",
   "id": "330f2678",
   "metadata": {},
   "source": [
    "<div class=\"alert alert-block alert-info\">\n",
    "    <p>At this point, we are going to save current clients separate from clients to predict.</p>\n",
    "    <p>But, before that, we are going to format columns name in the dataset</p>\n",
    "</div>"
   ]
  },
  {
   "cell_type": "code",
   "execution_count": 82,
   "id": "7ec7b13b",
   "metadata": {},
   "outputs": [],
   "source": [
    "# Formatting columns name (suppression espace et suppression #lettre)\n",
    "df_essai = df_essai.rename(columns=lambda x:re.sub(\"[^A-Za-z0-9_]+\", \"\", x))"
   ]
  },
  {
   "cell_type": "markdown",
   "id": "1c1e0fed",
   "metadata": {
    "tags": []
   },
   "source": [
    "<div style=\"background-color: #506AB9;\" >\n",
    "    <h3 style=\"margin: auto; padding: 20px; color:#fff; \">8.1 Current clients</h3>\n",
    "</div>"
   ]
  },
  {
   "cell_type": "markdown",
   "id": "b5099576",
   "metadata": {},
   "source": [
    "<div class=\"alert alert-block alert-info\">\n",
    "    <p>Now, let's save the current clients</p>\n",
    "</div>\n",
    "</div>"
   ]
  },
  {
   "cell_type": "code",
   "execution_count": 95,
   "id": "88555cf9",
   "metadata": {},
   "outputs": [
    {
     "data": {
      "text/plain": [
       "(307507, 608)"
      ]
     },
     "execution_count": 95,
     "metadata": {},
     "output_type": "execute_result"
    }
   ],
   "source": [
    "df_essai.shape"
   ]
  },
  {
   "cell_type": "code",
   "execution_count": 84,
   "id": "2fec7c6b",
   "metadata": {},
   "outputs": [
    {
     "data": {
      "text/plain": [
       "(307507, 608)"
      ]
     },
     "execution_count": 84,
     "metadata": {},
     "output_type": "execute_result"
    }
   ],
   "source": [
    "df_current_clients = df_essai[df_essai[\"TARGET\"].notnull()]\n",
    "df_current_clients.shape"
   ]
  },
  {
   "cell_type": "code",
   "execution_count": null,
   "id": "653ada67",
   "metadata": {},
   "outputs": [],
   "source": [
    "## traint_split à  faire"
   ]
  },
  {
   "cell_type": "code",
   "execution_count": 53,
   "id": "3f34ab5e",
   "metadata": {},
   "outputs": [],
   "source": [
    "# saving the current clients\n",
    "df_current_clients.to_csv(\"df_current_clients.csv\", encoding='utf-8', index=False)"
   ]
  },
  {
   "cell_type": "markdown",
   "id": "18ad5b7b",
   "metadata": {
    "tags": []
   },
   "source": [
    "<div style=\"background-color: #506AB9;\" >\n",
    "    <h3 style=\"margin: auto; padding: 20px; color:#fff; \">8.2 Clients to predict</h3>\n",
    "</div>"
   ]
  },
  {
   "cell_type": "markdown",
   "id": "842a9ed8",
   "metadata": {},
   "source": [
    "<div class=\"alert alert-block alert-info\">\n",
    "    <p>Let's start saving the customers that we are going to predict</p>\n",
    "</div>\n",
    "</div>"
   ]
  },
  {
   "cell_type": "code",
   "execution_count": 85,
   "id": "1d7e4805",
   "metadata": {},
   "outputs": [],
   "source": [
    "df_clients_to_predict = df_essai[df_essai[\"TARGET\"].isnull()]"
   ]
  },
  {
   "cell_type": "code",
   "execution_count": 56,
   "id": "91edbc1e",
   "metadata": {},
   "outputs": [],
   "source": [
    "# dropping TARGET feature\n",
    "df_clients_to_predict = df_clients_to_predict.drop(columns=[\"TARGET\"])"
   ]
  },
  {
   "cell_type": "code",
   "execution_count": 58,
   "id": "a6de4885",
   "metadata": {},
   "outputs": [],
   "source": [
    "# saving the clients to predict\n",
    "df_clients_to_predict.to_csv(\"df_clients_to_predict.csv\", index=False)\n",
    "df.to_csv(\"df.csv\", index=False)"
   ]
  },
  {
   "cell_type": "code",
   "execution_count": 60,
   "id": "3a3e248a",
   "metadata": {},
   "outputs": [
    {
     "data": {
      "text/plain": [
       "(48744, 608)"
      ]
     },
     "execution_count": 60,
     "metadata": {},
     "output_type": "execute_result"
    }
   ],
   "source": [
    "df_clients_to_predict.shape"
   ]
  },
  {
   "cell_type": "code",
   "execution_count": 37,
   "id": "d6d004da",
   "metadata": {},
   "outputs": [
    {
     "data": {
      "text/plain": [
       "0"
      ]
     },
     "execution_count": 37,
     "metadata": {},
     "output_type": "execute_result"
    }
   ],
   "source": [
    "del df_clients_to_predict, df\n",
    "gc.collect()"
   ]
  }
 ],
 "metadata": {
  "kernelspec": {
   "display_name": "Python 3 (ipykernel)",
   "language": "python",
   "name": "python3"
  },
  "language_info": {
   "codemirror_mode": {
    "name": "ipython",
    "version": 3
   },
   "file_extension": ".py",
   "mimetype": "text/x-python",
   "name": "python",
   "nbconvert_exporter": "python",
   "pygments_lexer": "ipython3",
   "version": "3.8.12"
  }
 },
 "nbformat": 4,
 "nbformat_minor": 5
}
